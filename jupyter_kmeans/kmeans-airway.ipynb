{
 "cells": [
  {
   "cell_type": "markdown",
   "metadata": {},
   "source": [
    "# using K-means for similarity detection on lobes\n",
    "\n",
    "[KMeans - doc](https://scikit-learn.org/stable/modules/generated/sklearn.cluster.KMeans.html)\n"
   ]
  },
  {
   "cell_type": "code",
   "execution_count": 2,
   "metadata": {},
   "outputs": [],
   "source": [
    "from sklearn.cluster import KMeans\n",
    "import pandas as pd\n",
    "from sklearn.preprocessing import MinMaxScaler\n",
    "import matplotlib.pyplot as plt"
   ]
  },
  {
   "cell_type": "code",
   "execution_count": 3,
   "metadata": {
    "scrolled": true
   },
   "outputs": [
    {
     "data": {
      "text/html": [
       "<div>\n",
       "<style scoped>\n",
       "    .dataframe tbody tr th:only-of-type {\n",
       "        vertical-align: middle;\n",
       "    }\n",
       "\n",
       "    .dataframe tbody tr th {\n",
       "        vertical-align: top;\n",
       "    }\n",
       "\n",
       "    .dataframe thead th {\n",
       "        text-align: right;\n",
       "    }\n",
       "</style>\n",
       "<table border=\"1\" class=\"dataframe\">\n",
       "  <thead>\n",
       "    <tr style=\"text-align: right;\">\n",
       "      <th></th>\n",
       "      <th>patient</th>\n",
       "      <th>nodes</th>\n",
       "      <th>edges</th>\n",
       "      <th>nodeQuotient</th>\n",
       "      <th>edgeQuotient</th>\n",
       "    </tr>\n",
       "  </thead>\n",
       "  <tbody>\n",
       "    <tr>\n",
       "      <th>69</th>\n",
       "      <td>3159855</td>\n",
       "      <td>72</td>\n",
       "      <td>67</td>\n",
       "      <td>5.208333</td>\n",
       "      <td>5.582090</td>\n",
       "    </tr>\n",
       "    <tr>\n",
       "      <th>70</th>\n",
       "      <td>3180368</td>\n",
       "      <td>60</td>\n",
       "      <td>57</td>\n",
       "      <td>4.700000</td>\n",
       "      <td>4.929825</td>\n",
       "    </tr>\n",
       "    <tr>\n",
       "      <th>71</th>\n",
       "      <td>3180687</td>\n",
       "      <td>35</td>\n",
       "      <td>32</td>\n",
       "      <td>5.085714</td>\n",
       "      <td>5.531250</td>\n",
       "    </tr>\n",
       "    <tr>\n",
       "      <th>72</th>\n",
       "      <td>3133592</td>\n",
       "      <td>74</td>\n",
       "      <td>71</td>\n",
       "      <td>4.337838</td>\n",
       "      <td>4.507042</td>\n",
       "    </tr>\n",
       "    <tr>\n",
       "      <th>73</th>\n",
       "      <td>3180185</td>\n",
       "      <td>82</td>\n",
       "      <td>79</td>\n",
       "      <td>4.097561</td>\n",
       "      <td>4.240506</td>\n",
       "    </tr>\n",
       "  </tbody>\n",
       "</table>\n",
       "</div>"
      ],
      "text/plain": [
       "    patient  nodes  edges  nodeQuotient  edgeQuotient\n",
       "69  3159855     72     67      5.208333      5.582090\n",
       "70  3180368     60     57      4.700000      4.929825\n",
       "71  3180687     35     32      5.085714      5.531250\n",
       "72  3133592     74     71      4.337838      4.507042\n",
       "73  3180185     82     79      4.097561      4.240506"
      ]
     },
     "execution_count": 3,
     "metadata": {},
     "output_type": "execute_result"
    }
   ],
   "source": [
    "panMatrix = pd.read_csv(\"lobe-2.csv\")\n",
    "panMatrix.tail()"
   ]
  },
  {
   "cell_type": "markdown",
   "metadata": {},
   "source": [
    "[MinMaxScaler - doc](https://scikit-learn.org/stable/modules/generated/sklearn.preprocessing.MinMaxScaler.html?highlight=minmaxscaler#sklearn.preprocessing.MinMaxScaler)"
   ]
  },
  {
   "cell_type": "code",
   "execution_count": 5,
   "metadata": {},
   "outputs": [],
   "source": [
    "scaler = MinMaxScaler()\n",
    "\n",
    "scaler.fit(panMatrix[['nodes']])\n",
    "panMatrix['nodes'] = scaler.transform(panMatrix[['nodes']])\n",
    "\n",
    "scaler.fit(panMatrix[['nodeQuotient']])\n",
    "panMatrix['nodeQuotient'] = scaler.transform(panMatrix[['nodeQuotient']])"
   ]
  },
  {
   "cell_type": "code",
   "execution_count": 6,
   "metadata": {},
   "outputs": [
    {
     "data": {
      "text/html": [
       "<div>\n",
       "<style scoped>\n",
       "    .dataframe tbody tr th:only-of-type {\n",
       "        vertical-align: middle;\n",
       "    }\n",
       "\n",
       "    .dataframe tbody tr th {\n",
       "        vertical-align: top;\n",
       "    }\n",
       "\n",
       "    .dataframe thead th {\n",
       "        text-align: right;\n",
       "    }\n",
       "</style>\n",
       "<table border=\"1\" class=\"dataframe\">\n",
       "  <thead>\n",
       "    <tr style=\"text-align: right;\">\n",
       "      <th></th>\n",
       "      <th>patient</th>\n",
       "      <th>nodes</th>\n",
       "      <th>edges</th>\n",
       "      <th>nodeQuotient</th>\n",
       "      <th>edgeQuotient</th>\n",
       "    </tr>\n",
       "  </thead>\n",
       "  <tbody>\n",
       "    <tr>\n",
       "      <th>69</th>\n",
       "      <td>3159855</td>\n",
       "      <td>0.309179</td>\n",
       "      <td>67</td>\n",
       "      <td>0.201966</td>\n",
       "      <td>5.582090</td>\n",
       "    </tr>\n",
       "    <tr>\n",
       "      <th>70</th>\n",
       "      <td>3180368</td>\n",
       "      <td>0.251208</td>\n",
       "      <td>57</td>\n",
       "      <td>0.144357</td>\n",
       "      <td>4.929825</td>\n",
       "    </tr>\n",
       "    <tr>\n",
       "      <th>71</th>\n",
       "      <td>3180687</td>\n",
       "      <td>0.130435</td>\n",
       "      <td>32</td>\n",
       "      <td>0.188070</td>\n",
       "      <td>5.531250</td>\n",
       "    </tr>\n",
       "    <tr>\n",
       "      <th>72</th>\n",
       "      <td>3133592</td>\n",
       "      <td>0.318841</td>\n",
       "      <td>71</td>\n",
       "      <td>0.103313</td>\n",
       "      <td>4.507042</td>\n",
       "    </tr>\n",
       "    <tr>\n",
       "      <th>73</th>\n",
       "      <td>3180185</td>\n",
       "      <td>0.357488</td>\n",
       "      <td>79</td>\n",
       "      <td>0.076082</td>\n",
       "      <td>4.240506</td>\n",
       "    </tr>\n",
       "  </tbody>\n",
       "</table>\n",
       "</div>"
      ],
      "text/plain": [
       "    patient     nodes  edges  nodeQuotient  edgeQuotient\n",
       "69  3159855  0.309179     67      0.201966      5.582090\n",
       "70  3180368  0.251208     57      0.144357      4.929825\n",
       "71  3180687  0.130435     32      0.188070      5.531250\n",
       "72  3133592  0.318841     71      0.103313      4.507042\n",
       "73  3180185  0.357488     79      0.076082      4.240506"
      ]
     },
     "execution_count": 6,
     "metadata": {},
     "output_type": "execute_result"
    }
   ],
   "source": [
    "panMatrix.tail()"
   ]
  },
  {
   "cell_type": "markdown",
   "metadata": {},
   "source": [
    "## getting best value of k (elbow)"
   ]
  },
  {
   "cell_type": "code",
   "execution_count": 7,
   "metadata": {},
   "outputs": [
    {
     "data": {
      "text/plain": [
       "[<matplotlib.lines.Line2D at 0x7fb30ed53e50>]"
      ]
     },
     "execution_count": 7,
     "metadata": {},
     "output_type": "execute_result"
    },
    {
     "data": {
      "image/png": "[encoded data removed]",
      "text/plain": [
       "<Figure size 432x288 with 1 Axes>"
      ]
     },
     "metadata": {
      "needs_background": "light"
     },
     "output_type": "display_data"
    }
   ],
   "source": [
    "sse = []\n",
    "k_rng = range(1,10)\n",
    "for k in k_rng:\n",
    "    km = KMeans(n_clusters=k)\n",
    "    km.fit(panMatrix[['nodeQuotient','nodes']])\n",
    "    sse.append(km.inertia_)\n",
    "\n",
    "plt.xlabel('K')\n",
    "plt.ylabel('Sum of squared error')\n",
    "plt.plot(k_rng,sse)"
   ]
  },
  {
   "cell_type": "markdown",
   "metadata": {},
   "source": [
    "## KMeans and plotting"
   ]
  },
  {
   "cell_type": "code",
   "execution_count": 8,
   "metadata": {},
   "outputs": [
    {
     "data": {
      "text/plain": [
       "Text(0, 0.5, 'nodes')"
      ]
     },
     "execution_count": 8,
     "metadata": {},
     "output_type": "execute_result"
    },
    {
     "data": {
      "image/png": "[encoded data removed]",
      "text/plain": [
       "<Figure size 432x288 with 1 Axes>"
      ]
     },
     "metadata": {
      "needs_background": "light"
     },
     "output_type": "display_data"
    }
   ],
   "source": [
    "plt.scatter(panMatrix['nodeQuotient'],panMatrix['nodes'])\n",
    "plt.xlabel('nodeQuotient')\n",
    "plt.ylabel('nodes')"
   ]
  },
  {
   "cell_type": "code",
   "execution_count": 9,
   "metadata": {},
   "outputs": [
    {
     "data": {
      "text/plain": [
       "array([2, 2, 2, 0, 3, 1, 1, 0, 3, 0, 0, 0, 2, 0, 2, 2, 0, 0, 3, 0, 2, 2,\n",
       "       2, 2, 0, 4, 2, 0, 4, 3, 2, 0, 3, 2, 3, 0, 4, 2, 2, 2, 0, 2, 0, 0,\n",
       "       1, 0, 0, 2, 0, 0, 0, 0, 2, 0, 0, 0, 2, 2, 0, 3, 2, 2, 0, 2, 1, 2,\n",
       "       3, 2, 2, 0, 0, 2, 0, 0], dtype=int32)"
      ]
     },
     "execution_count": 9,
     "metadata": {},
     "output_type": "execute_result"
    }
   ],
   "source": [
    "kmeans = KMeans(n_clusters = 5, max_iter=300)\n",
    "y_predicted = kmeans.fit_predict(panMatrix[['nodeQuotient','nodes']])\n",
    "y_predicted"
   ]
  },
  {
   "cell_type": "code",
   "execution_count": 10,
   "metadata": {},
   "outputs": [
    {
     "data": {
      "text/html": [
       "<div>\n",
       "<style scoped>\n",
       "    .dataframe tbody tr th:only-of-type {\n",
       "        vertical-align: middle;\n",
       "    }\n",
       "\n",
       "    .dataframe tbody tr th {\n",
       "        vertical-align: top;\n",
       "    }\n",
       "\n",
       "    .dataframe thead th {\n",
       "        text-align: right;\n",
       "    }\n",
       "</style>\n",
       "<table border=\"1\" class=\"dataframe\">\n",
       "  <thead>\n",
       "    <tr style=\"text-align: right;\">\n",
       "      <th></th>\n",
       "      <th>patient</th>\n",
       "      <th>nodes</th>\n",
       "      <th>edges</th>\n",
       "      <th>nodeQuotient</th>\n",
       "      <th>edgeQuotient</th>\n",
       "      <th>cluster</th>\n",
       "    </tr>\n",
       "  </thead>\n",
       "  <tbody>\n",
       "    <tr>\n",
       "      <th>69</th>\n",
       "      <td>3159855</td>\n",
       "      <td>0.309179</td>\n",
       "      <td>67</td>\n",
       "      <td>0.201966</td>\n",
       "      <td>5.582090</td>\n",
       "      <td>0</td>\n",
       "    </tr>\n",
       "    <tr>\n",
       "      <th>70</th>\n",
       "      <td>3180368</td>\n",
       "      <td>0.251208</td>\n",
       "      <td>57</td>\n",
       "      <td>0.144357</td>\n",
       "      <td>4.929825</td>\n",
       "      <td>0</td>\n",
       "    </tr>\n",
       "    <tr>\n",
       "      <th>71</th>\n",
       "      <td>3180687</td>\n",
       "      <td>0.130435</td>\n",
       "      <td>32</td>\n",
       "      <td>0.188070</td>\n",
       "      <td>5.531250</td>\n",
       "      <td>2</td>\n",
       "    </tr>\n",
       "    <tr>\n",
       "      <th>72</th>\n",
       "      <td>3133592</td>\n",
       "      <td>0.318841</td>\n",
       "      <td>71</td>\n",
       "      <td>0.103313</td>\n",
       "      <td>4.507042</td>\n",
       "      <td>0</td>\n",
       "    </tr>\n",
       "    <tr>\n",
       "      <th>73</th>\n",
       "      <td>3180185</td>\n",
       "      <td>0.357488</td>\n",
       "      <td>79</td>\n",
       "      <td>0.076082</td>\n",
       "      <td>4.240506</td>\n",
       "      <td>0</td>\n",
       "    </tr>\n",
       "  </tbody>\n",
       "</table>\n",
       "</div>"
      ],
      "text/plain": [
       "    patient     nodes  edges  nodeQuotient  edgeQuotient  cluster\n",
       "69  3159855  0.309179     67      0.201966      5.582090        0\n",
       "70  3180368  0.251208     57      0.144357      4.929825        0\n",
       "71  3180687  0.130435     32      0.188070      5.531250        2\n",
       "72  3133592  0.318841     71      0.103313      4.507042        0\n",
       "73  3180185  0.357488     79      0.076082      4.240506        0"
      ]
     },
     "execution_count": 10,
     "metadata": {},
     "output_type": "execute_result"
    }
   ],
   "source": [
    "panMatrix['cluster']=y_predicted\n",
    "panMatrix.tail()"
   ]
  },
  {
   "cell_type": "code",
   "execution_count": 11,
   "metadata": {},
   "outputs": [
    {
     "data": {
      "text/plain": [
       "array([[0.12225918, 0.33847592],\n",
       "       [0.77086043, 0.03623188],\n",
       "       [0.19405036, 0.15079365],\n",
       "       [0.45416996, 0.14975845],\n",
       "       [0.11097626, 0.76167472]])"
      ]
     },
     "execution_count": 11,
     "metadata": {},
     "output_type": "execute_result"
    }
   ],
   "source": [
    "kmeans.cluster_centers_"
   ]
  },
  {
   "cell_type": "code",
   "execution_count": 12,
   "metadata": {},
   "outputs": [
    {
     "data": {
      "text/plain": [
       "<matplotlib.legend.Legend at 0x7fb313c63950>"
      ]
     },
     "execution_count": 12,
     "metadata": {},
     "output_type": "execute_result"
    },
    {
     "data": {
      "image/png": "[encoded data removed]",
      "text/plain": [
       "<Figure size 432x288 with 1 Axes>"
      ]
     },
     "metadata": {
      "needs_background": "light"
     },
     "output_type": "display_data"
    }
   ],
   "source": [
    "panC1 = panMatrix[panMatrix.cluster==0]\n",
    "panC2 = panMatrix[panMatrix.cluster==1]\n",
    "panC3 = panMatrix[panMatrix.cluster==2]\n",
    "panC4 = panMatrix[panMatrix.cluster==3]\n",
    "panC5 = panMatrix[panMatrix.cluster==4]\n",
    "plt.scatter(panC1.nodeQuotient,panC1.nodes,color='green')\n",
    "plt.scatter(panC2.nodeQuotient,panC2.nodes,color='red')\n",
    "plt.scatter(panC3.nodeQuotient,panC3.nodes,color='black')\n",
    "plt.scatter(panC4.nodeQuotient,panC4.nodes,color='yellow')\n",
    "plt.scatter(panC5.nodeQuotient,panC5.nodes,color='orange')\n",
    "plt.scatter(kmeans.cluster_centers_[:,0],kmeans.cluster_centers_[:,1],color='purple',marker='*',label='centroid')\n",
    "plt.xlabel('nodeQuotient')\n",
    "plt.ylabel('nodes')\n",
    "plt.legend()"
   ]
  },
  {
   "cell_type": "code",
   "execution_count": null,
   "metadata": {},
   "outputs": [],
   "source": []
  }
 ],
 "metadata": {
  "kernelspec": {
   "display_name": "Python 3",
   "language": "python",
   "name": "python3"
  },
  "language_info": {
   "codemirror_mode": {
    "name": "ipython",
    "version": 3
   },
   "file_extension": ".py",
   "mimetype": "text/x-python",
   "name": "python",
   "nbconvert_exporter": "python",
   "pygments_lexer": "ipython3",
   "version": "3.7.6"
  }
 },
 "nbformat": 4,
 "nbformat_minor": 2
}
